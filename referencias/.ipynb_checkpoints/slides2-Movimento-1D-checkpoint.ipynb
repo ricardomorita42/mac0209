{
 "cells": [
  {
   "cell_type": "markdown",
   "metadata": {
    "colab_type": "text",
    "id": "ChaHi8uR4BVq"
   },
   "source": [
    "# Método de Euler para solução de EDOs"
   ]
  },
  {
   "cell_type": "markdown",
   "metadata": {
    "colab_type": "text",
    "id": "11OVI5qe4BVs"
   },
   "source": [
    "O método de Euler é uma forma de resolver numericamente uma equação diferencial ordinária. Assumem-se conhecidas a derivada de uma função que se quer encontrar (\"resolver\") e um valor inicial da equação a ser integrada. Por exemplo, no caso do movimento uniformemente acelerado:$$a=\\mbox{constante}, b=\\mbox{constante}$$\n",
    "\n",
    "$$v(t) = x'(t) = dx(t)/dt = 2*a*t + b$$, $$x(0)=0$$\n",
    "\n",
    "A ideia do método de Euler é substituir a derivada por uma aproximação de Taylor, desprezando-se os termos maiores que segunda ordem. Isto é:\n",
    "\n",
    "$$x'(t)\\sim \\frac{x(t+\\Delta t)-x(t)}{\\Delta t}$$\n",
    "\n",
    "Se denotarmos os valores de $x(t)$ por $x_t$, isto é, ao invés da notação de função, usarmos a notação com índices, e assumirmos que os valores de $t$ só podem ser números inteiros (portanto $\\Delta t$ é no mínimo 1, o valor $x(t+\\Delta t)$ pode ser escrito como $x_1$, para $t=0$; $x_2$, para $t=1$ e assim por diante. \n",
    "\n",
    "Desta maneira, o exemplo poderia ser escrito assim (note que já estamos assumindo $\\Delta t = 1$:\n",
    "\n",
    "$$v(t) = x'(t) = 2*a*t + b \\sim x_t - x_{t-1},$$\n",
    "\n",
    "isto é,\n",
    "\n",
    "$$ x_t = x_{t-1} + 2*a*t + b $$\n",
    "\n",
    "Como sabemos o valor inicial em $t=0$, podemos calcular $x_t$ para todo $t>0$:\n",
    "\n",
    "$$ x_1 = x_{0} + 2*a*1 + b $$\n",
    "\n",
    "$$ x_2 = x_{1} + 2*a*2 + b = 6*a + 2*b$$\n",
    "\n",
    "$$ x_3 = x_{2} + 2*a*3 + b = 6*a + 2*b + 6*a + b = 12*a + 3*b$$\n",
    "\n",
    "e assim por diante.\n",
    "\n",
    "Em verdade, $\\Delta t$ não precisa ser um número inteiro e em geral, não é. Porém, no caso de não ser um número inteiro, desacoplamos os índices do incremento pois os índices são inteiros. \n",
    "\n"
   ]
  },
  {
   "cell_type": "markdown",
   "metadata": {
    "colab_type": "text",
    "id": "wjaiSt4p4BVs"
   },
   "source": [
    "# Implementanto o método de Euler"
   ]
  },
  {
   "cell_type": "markdown",
   "metadata": {
    "colab_type": "text",
    "id": "qRT8m9_74BVu"
   },
   "source": [
    "Da forma que a equação foi construída, isto é, $ x_t = x_{t-1} + 2*a*t + b $, é trivial implementá-la. basta que estabeleçamos os valores de $a$, $b$ e $x_0$.\n",
    "\n",
    "No entanto, para a implementação ficar organizada, crie duas funções: \n",
    "- nextXeuler(x,t,params,dt): que recebe um vetor de parâmetros iniciais, params, o tempo e a posição atual, t e x, respectivamente, e o delta de tempo, dt (note que com isso desacoplamos os índices do incremento). A função retorna a nova posição $x_t$ de acordo com o método de Euler: $ x_t = x_{t-1} + 2*a*t + b $ .\n",
    "- nextXa(t,params): que recebe um vetor de parâmetros iniciais, params, e o tempo atual. A função retorna a nova posição $x_t$ de acordo com a equação integrada analiticamente: $ x_t = a*t^2 + b*t * x_0 $.\n",
    "\n",
    "Crie uma função main que itera essas duas funções entre os tempos 0s e 2s (com um dt de 0.1s) calcula e imprime a diferença entre elas (erro) e as grafique.\n"
   ]
  },
  {
   "cell_type": "code",
   "execution_count": 1,
   "metadata": {
    "colab": {
     "base_uri": "https://localhost:8080/",
     "height": 713
    },
    "colab_type": "code",
    "executionInfo": {
     "elapsed": 1153,
     "status": "ok",
     "timestamp": 1553538896376,
     "user": {
      "displayName": "Roberto Hirata Jr",
      "photoUrl": "https://lh3.googleusercontent.com/-ignNFTMlUns/AAAAAAAAAAI/AAAAAAAACNc/H9I32OCx5fo/s64/photo.jpg",
      "userId": "13650987675552912761"
     },
     "user_tz": 180
    },
    "id": "zqAj0xhX4BVu",
    "outputId": "ad496e3e-0758-4201-bbd8-23d153f28087"
   },
   "outputs": [
    {
     "name": "stdout",
     "output_type": "stream",
     "text": [
      "Erro:  0\n",
      "Erro:  0.009999999999999981\n",
      "Erro:  0.01999999999999999\n",
      "Erro:  0.02999999999999997\n",
      "Erro:  0.040000000000000036\n",
      "Erro:  0.050000000000000044\n",
      "Erro:  0.06000000000000005\n",
      "Erro:  0.07000000000000006\n",
      "Erro:  0.08000000000000007\n",
      "Erro:  0.0900000000000003\n",
      "Erro:  0.10000000000000053\n",
      "Erro:  0.11000000000000032\n",
      "Erro:  0.1200000000000001\n",
      "Erro:  0.12999999999999945\n",
      "Erro:  0.13999999999999924\n",
      "Erro:  0.14999999999999858\n",
      "Erro:  0.15999999999999837\n",
      "Erro:  0.16999999999999815\n",
      "Erro:  0.17999999999999794\n",
      "Erro:  0.18999999999999773\n"
     ]
    },
    {
     "data": {
      "image/png": "[encoded data removed]",
      "text/plain": [
       "<Figure size 576x396 with 1 Axes>"
      ]
     },
     "metadata": {
      "tags": []
     },
     "output_type": "display_data"
    }
   ],
   "source": [
    "# Implementa o exercício da integração de Euler de dx(t)/dt = 2at + b\n",
    "\n",
    "import math\n",
    "import matplotlib.pyplot as pyplot\n",
    "\n",
    "def nextXeuler(x,t,params,dt):\n",
    "    v = 2*params[0]*t + params[1]\n",
    "    return (x+v*dt)\n",
    "\n",
    "def nextXa(t,params):\n",
    "    return (params[0]*t*t + params[1]*t + params[2])\n",
    "\n",
    "def main():\n",
    "    t=0\n",
    "    tf = 2\n",
    "    dt=0.1\n",
    "    x=0\n",
    "    params = [1,1,x]\n",
    "    vxa=[]\n",
    "    vxe=[]\n",
    "    while (t<tf):\n",
    "        vxa.append(nextXa(t,params))\n",
    "        vxe.append(x)\n",
    "        print('Erro: ', x - nextXa(t,params)) #erro\n",
    "        t += dt\n",
    "        x = nextXeuler(x,t,params,dt)\n",
    "        \n",
    "    \n",
    "#    print 'xa: ',vxa\n",
    "#    print 'xe: ',vxe\n",
    "#    print 'va: ',vva\n",
    "#    print 've: ',vve\n",
    "\n",
    "    pyplot.figure(0)\n",
    "    pyplot.plot(vxe,label='Euler',linestyle='',marker='o') \n",
    "    pyplot.plot(vxa,label='Analytical') \n",
    "    pyplot.title('Position')\n",
    "    pyplot.show(block=False)\n",
    "\n",
    "main() "
   ]
  },
  {
   "cell_type": "markdown",
   "metadata": {
    "colab_type": "text",
    "id": "ZzsRkUuw4BV1"
   },
   "source": [
    "# O que está acontecendo?"
   ]
  },
  {
   "cell_type": "markdown",
   "metadata": {
    "colab_type": "text",
    "id": "kc9Wo5x54BV1"
   },
   "source": [
    "EXEMPLO"
   ]
  },
  {
   "cell_type": "markdown",
   "metadata": {
    "colab_type": "text",
    "id": "0yvVlvmZ4BV2"
   },
   "source": [
    "Abaixo está a solução para d^2x/dt^2 = 6t"
   ]
  },
  {
   "cell_type": "code",
   "execution_count": 2,
   "metadata": {
    "colab": {
     "base_uri": "https://localhost:8080/",
     "height": 900
    },
    "colab_type": "code",
    "executionInfo": {
     "elapsed": 1611,
     "status": "ok",
     "timestamp": 1553538896918,
     "user": {
      "displayName": "Roberto Hirata Jr",
      "photoUrl": "https://lh3.googleusercontent.com/-ignNFTMlUns/AAAAAAAAAAI/AAAAAAAACNc/H9I32OCx5fo/s64/photo.jpg",
      "userId": "13650987675552912761"
     },
     "user_tz": 180
    },
    "id": "HuRRZz6Z4BV3",
    "outputId": "0b7b9a69-087a-4d25-b15c-0b2f2b92d6d8"
   },
   "outputs": [
    {
     "name": "stdout",
     "output_type": "stream",
     "text": [
      "Erro:  0\n",
      "Erro:  0.005000000000000002\n",
      "Erro:  0.016000000000000007\n",
      "Erro:  0.033\n",
      "Erro:  0.05600000000000001\n",
      "Erro:  0.08500000000000005\n",
      "Erro:  0.1200000000000001\n",
      "Erro:  0.1610000000000002\n",
      "Erro:  0.2080000000000003\n",
      "Erro:  0.26100000000000045\n",
      "Erro:  0.3200000000000006\n"
     ]
    },
    {
     "data": {
      "image/png": "[encoded data removed]",
      "text/plain": [
       "<Figure size 576x396 with 1 Axes>"
      ]
     },
     "metadata": {
      "tags": []
     },
     "output_type": "display_data"
    },
    {
     "data": {
      "image/png": "[encoded data removed]",
      "text/plain": [
       "<Figure size 576x396 with 1 Axes>"
      ]
     },
     "metadata": {
      "tags": []
     },
     "output_type": "display_data"
    }
   ],
   "source": [
    "# d2x / dt2 = 6t\n",
    "\n",
    "import math\n",
    "import matplotlib.pyplot as pyplot\n",
    "\n",
    "def nextXeuler(x,v,dt):\n",
    "    return x+v*dt\n",
    "\n",
    "def nextVeuler(v,t,dt):\n",
    "    return v + (6*t*dt)\n",
    "\n",
    "def nextVa(t):\n",
    "    return 3*(t**2)\n",
    "\n",
    "def nextXa(t):\n",
    "    return t**3\n",
    "\n",
    "def main():\n",
    "    t=0\n",
    "    tf = 1\n",
    "    dt=0.1\n",
    "    x=0\n",
    "    v=0\n",
    "    vva=[]\n",
    "    vxa=[]\n",
    "    vve=[]\n",
    "    vxe=[]\n",
    "    while (t<tf):\n",
    "        vva.append(nextVa(t))\n",
    "        vxa.append(nextXa(t))\n",
    "        vve.append(v)\n",
    "        vxe.append(x)\n",
    "        print('Erro: ', x - nextXa(t)) #erro\n",
    "        t += dt\n",
    "        v = nextVeuler(v,t,dt)\n",
    "        x = nextXeuler(x,v,dt)\n",
    "    \n",
    "#    print 'xa: ',vxa\n",
    "#    print 'xe: ',vxe\n",
    "#    print 'va: ',vva\n",
    "#    print 've: ',vve\n",
    "\n",
    "    pyplot.figure(0)\n",
    "    pyplot.plot(vxe,label='Euler',linestyle='',marker='o') \n",
    "    pyplot.plot(vxa,label='Analytical') \n",
    "    pyplot.title('Position')\n",
    "    pyplot.show(block=False)\n",
    "\n",
    "    pyplot.figure(1)\n",
    "    pyplot.plot(vve,label='Euler',linestyle='',marker='o')\n",
    "    pyplot.plot(vva,label='Analytical')\n",
    "    pyplot.title('Velocity')\n",
    "    pyplot.show()\n",
    "\n",
    "\n",
    "main() "
   ]
  },
  {
   "cell_type": "code",
   "execution_count": 0,
   "metadata": {
    "colab": {},
    "colab_type": "code",
    "id": "xDtL5OZS4BV6"
   },
   "outputs": [],
   "source": []
  }
 ],
 "metadata": {
  "colab": {
   "name": "slides2-Movimento-1D.ipynb",
   "provenance": [],
   "version": "0.3.2"
  },
  "kernelspec": {
   "display_name": "Python 3",
   "language": "python",
   "name": "python3"
  },
  "language_info": {
   "codemirror_mode": {
    "name": "ipython",
    "version": 3
   },
   "file_extension": ".py",
   "mimetype": "text/x-python",
   "name": "python",
   "nbconvert_exporter": "python",
   "pygments_lexer": "ipython3",
   "version": "3.7.3"
  }
 },
 "nbformat": 4,
 "nbformat_minor": 1
}
