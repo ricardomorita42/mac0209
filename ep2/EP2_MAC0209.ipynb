{
 "cells": [
  {
   "cell_type": "markdown",
   "metadata": {
    "colab_type": "text",
    "id": "sl17NFKFamoo"
   },
   "source": [
    "# EP 2 de MAC 209\n",
    "**Nomes/NUSP:**\n",
    "\n",
    "    Ricardo Mikio Morita             5412562\n",
    "    Alexandre Muller Jones           8038149\n",
    "    Arthur Sakayan Vieira de Melo    10297647\n",
    "    "
   ]
  },
  {
   "cell_type": "markdown",
   "metadata": {
    "colab_type": "text",
    "id": "xWh3On4Bamoo"
   },
   "source": [
    "# Introdução\n",
    "\n",
    "Os experimentos realizados durante o segundo Exercício-Programa(EP) buscou observar os seguintes fenômenos: O **Movimento Oblíquo** (MO), o **Movimento Pendular** (MP) e a estimação da gravidade através do quicar sucessivo de uma bola em queda livre(QL).\n",
    "\n",
    "### Movimento Oblíquo\n",
    "O primeiro experimento descreveria o percurso de um carrinho descendo uma rampa, como na ilustração abaixo. \n",
    "\n",
    "<img src=\"img/descida_carro.png\" alt=\"Drawing\" style=\"width: 500px;\"/>\n",
    "<div align=\"center\"><i>Visão lateral do experimento</i></div>\n",
    "\n",
    "Infelizmente, o carro tendia a puxar para o lado esquerdo da rampa em vez de seguir o trajeto da rampa em linha reta. Então, lançamos o carro em uma inclinação para o lado direito, o que fez com que este seguisse uma trajetória oblíqua em relação a uma reta paralela à rampa, até o destino final, 10m adiante. Podemos visualizar o movimento descrito pelo carro na imagem abaixo:\n",
    "\n",
    "<img src=\"img/visao_aerea_descida_carro.png\" alt=\"Drawing\" style=\"width: 500px;\"/>\n",
    "<div align=\"center\"><i>Visão aérea do experimento</i></div>\n",
    "\n",
    "Em todos os experimentos, o carro teve em seu teto um celular acoplado que tinha seu acelerômetro ligado, o qual permitia avaliar quando cada experimento começou e terminou. Além disso, um aluno foi responsável por iniciar e terminar o movimento, além de determinar o desvio máximo que o carro naquele experimento; um outro aluno foi responsável por marcar os instantes em que o experimento começou, e em cada passagem de 2,5m do carrinho, até o seu fim; Um úlimo aluno foi responsável pela filmagem dos experimentos.\n",
    "\n",
    "<img src=\"img/composicao_forcas.png\" alt=\"Drawing\" style=\"width: 200px;\"/>\n",
    "<div align=\"center\"><i>Composição das forças que agem sobre o veículo, numa visão aérea</i></div>\n",
    "\n",
    "A ilustração acima descreve as forças que agem sobre o carro. `Fx` corresponde à força paralela à rampa que corresponde à decomposição do peso no eixo paralelo à superfície inclinada menos a força de atrito do chão sobre o carrinho paralela à rampa e à superfície. `Fy` corresponde à força que puxa o carrinho para a esquerda menos à força de atrito de mesmo sentido e direção oposta à `Fy`.\n",
    "\n",
    "O movimento do carrinho pode ser dividido então em duas partes: A descida do carrinho na rampa e a curvatura de sua trajetória para a esquerda. Nas seções a seguir, da mesma forma como referenciamos a decomposição da força F, consideraremos o movimento no eixo x como o deslocamento do carrinho desde a origem até o fim do movimento, 10m adiante, e como o movimento no eixo y o desvio lateral do carrinho, com sua origem na posição inicial e o desvio lateral máximo como o ponto mais alto neste eixo y.\n",
    "\n",
    "As fórmulas usadas para calcular o deslocamento no eixo x e no eixo y são:\n",
    "\n",
    "| Fórmula | Observação |\n",
    "|---|---|\n",
    "| $$s = s_o + v_o * t - (a * t^2)/2$$ | $s_o$ é a velocidade inicial |\n",
    "| $$v = a * t + v_o $$ | $v_o$ é a velocidade inicial |\n",
    "| $$v^2 = v_o^2 + 2 * a * (s - s_o)$$ | $s$ é a posição final  |\n",
    "| $ $ | $a$ é a aceleração |\n",
    "| $ $ | $t$ é o instante de tempo |\n",
    "\n",
    "\n",
    "### Movimento Pendular\n",
    "Neste experimento temos o celular acoplado a um barbante, o qual está fixado a um suporte. Com o barbante esticado, puxa-se o celular e, após certificar-se que o barbante está levemente tenso, solta-se o celular e deixa-o realizar o movimento de vai-e-vem, como um pêndulo.\n",
    "\n",
    "(Inserir ilustrações aqui de uma visão frontal do experimento)\n",
    "\n",
    "Em todos os experimentos, o celular ligado ao barbante tinha seu acelerômetro ligado, o qual permitia avaliar as forças sofridas pelo celular ao longo do movimento pendular. Além disso, um aluno foi responsável por iniciar e terminar o movimento; um outro aluno foi responsável por marcar os instantes em que o experimento começou, e terminou; Um úlimo aluno foi responsável pela filmagem dos experimentos.\n",
    "\n",
    "\n",
    "### Queda Livre\n",
    "\n",
    "\n",
    "\n",
    "A finalidade do experimento é de comparar o uso de simulações de computadores com os modelos teóricos já bem-definidos e comparar os resultados. A partir disso, iremos discutir sobre a utilidade de tal ferramenta diante dos resultados."
   ]
  },
  {
   "cell_type": "markdown",
   "metadata": {
    "colab_type": "text",
    "id": "DworhPX5amoo"
   },
   "source": [
    "# Método\n",
    "\n",
    "O vídeo do experimento segue no local abaixo:\n",
    "\n",
    "## Inserir url do vídeo\n",
    "\n",
    "O programa e os resultados gerados estão disponíveis no seguinte repositório: https://github.com/ricardomorita42/mac0209.\n",
    "\n",
    "Há duas pastas adicionais: `img`, que contém as imagens usadas neste documento, e `dados`, que contém os arquivos csv dos experimentos e duas planilhas com os dados csv processados e os gráficos que estão inseridos neste relatório."
   ]
  },
  {
   "cell_type": "markdown",
   "metadata": {
    "colab_type": "text",
    "id": "x_REsm4Tamoo"
   },
   "source": [
    "# Verificação do Programa\n",
    "\n",
    "Segue abaixo um exemplo de cálculo manual do algoritmo para verificação de corretude.\n"
   ]
  },
  {
   "cell_type": "markdown",
   "metadata": {
    "colab_type": "text",
    "id": "pL4XNJmbamoo"
   },
   "source": [
    "# Dados\n",
    "\n",
    "## Movimento Oblíquo\n",
    "Foi utilizado um celular com a função \"volta\" para marcar os tempos do trajeto do carrinho que realizava o experimento de descida, sendo que em seu teto um celular com a função de acelerômetro do aplicativo **Physics Toolbox** estava ativado. Além disto, foi usado um celular com um tripé para filmar o experimento, além da filmagem feita por um segundo aluno. O registro dos dados foi feito por um dos alunos.\n",
    "\n",
    "O experimento foi feito em uma superfície inclinada, mais especificamente a rampa inclinada da Biblioteca Siciliana. No trajeto de 10 metros, havia marcações em cada 2.5m para registrar os instantes das passagens do carrinho por cada marcação. A inclinação da rampa foi medida como sendo oito graus e a inclinação do carrinho em relação à rampa é de 15 graus.\n",
    "\n",
    "Estamos considerando o espaço inicial (`s_o`) igual a zero.\n",
    "\n",
    "No fim do experimento de Movimento Oblíquo, foram realizadas 5 travessias ao todo. Segue abaixo uma tabela com as marcas de tempo obtidas, além do desvio lateral em cada experimento:"
   ]
  },
  {
   "cell_type": "code",
   "execution_count": 3,
   "metadata": {
    "colab": {},
    "colab_type": "code",
    "id": "YjRVHgilamoo",
    "outputId": "0741781c-c27c-47ca-d925-fb8dcac69caf",
    "scrolled": true
   },
   "outputs": [
    {
     "data": {
      "text/html": [
       "<div>\n",
       "<style scoped>\n",
       "    .dataframe tbody tr th:only-of-type {\n",
       "        vertical-align: middle;\n",
       "    }\n",
       "\n",
       "    .dataframe tbody tr th {\n",
       "        vertical-align: top;\n",
       "    }\n",
       "\n",
       "    .dataframe thead th {\n",
       "        text-align: right;\n",
       "    }\n",
       "</style>\n",
       "<table border=\"1\" class=\"dataframe\">\n",
       "  <thead>\n",
       "    <tr style=\"text-align: right;\">\n",
       "      <th></th>\n",
       "      <th>2.5m</th>\n",
       "      <th>5m</th>\n",
       "      <th>7.5m</th>\n",
       "      <th>10m</th>\n",
       "      <th>Desvio Lateral(m)</th>\n",
       "    </tr>\n",
       "  </thead>\n",
       "  <tbody>\n",
       "    <tr>\n",
       "      <th>0</th>\n",
       "      <td>5.42</td>\n",
       "      <td>7.87</td>\n",
       "      <td>9.78</td>\n",
       "      <td>11.57</td>\n",
       "      <td>0.86</td>\n",
       "    </tr>\n",
       "    <tr>\n",
       "      <th>1</th>\n",
       "      <td>7.17</td>\n",
       "      <td>9.95</td>\n",
       "      <td>12.14</td>\n",
       "      <td>13.92</td>\n",
       "      <td>1.71</td>\n",
       "    </tr>\n",
       "    <tr>\n",
       "      <th>2</th>\n",
       "      <td>6.87</td>\n",
       "      <td>10.14</td>\n",
       "      <td>12.50</td>\n",
       "      <td>19.84</td>\n",
       "      <td>0.95</td>\n",
       "    </tr>\n",
       "    <tr>\n",
       "      <th>3</th>\n",
       "      <td>7.11</td>\n",
       "      <td>10.74</td>\n",
       "      <td>12.90</td>\n",
       "      <td>15.02</td>\n",
       "      <td>0.86</td>\n",
       "    </tr>\n",
       "    <tr>\n",
       "      <th>4</th>\n",
       "      <td>6.20</td>\n",
       "      <td>9.10</td>\n",
       "      <td>11.16</td>\n",
       "      <td>13.92</td>\n",
       "      <td>1.46</td>\n",
       "    </tr>\n",
       "  </tbody>\n",
       "</table>\n",
       "</div>"
      ],
      "text/plain": [
       "   2.5m      5m     7.5m      10m Desvio Lateral(m)\n",
       "0  5.42    7.87     9.78    11.57              0.86\n",
       "1  7.17    9.95    12.14    13.92              1.71\n",
       "2  6.87   10.14    12.50    19.84              0.95\n",
       "3  7.11   10.74    12.90    15.02              0.86\n",
       "4  6.20    9.10    11.16    13.92              1.46"
      ]
     },
     "metadata": {},
     "output_type": "display_data"
    },
    {
     "name": "stdout",
     "output_type": "stream",
     "text": [
      "[0.86, 1.71, 0.95, 0.86, 1.46]\n"
     ]
    }
   ],
   "source": [
    "import pandas as pd\n",
    "tabela = []\n",
    "desvios_laterais = [] #salvando para uso posterior\n",
    "\n",
    "dados = open(\"dados/dados_MO.txt\",'r')\n",
    "\n",
    "for linha in dados:\n",
    "    if ('#' not in linha):\n",
    "        proc_linha = (linha.rstrip('\\n')).split(';')\n",
    "        \n",
    "        #s_o = 0 e v_o = 0, portanto s = a*t^2/2\n",
    "        #ou seja, am = 2*s/(t^2)\n",
    "        \n",
    "        #vm = 10 / (float(proc_linha[-2]))\n",
    "        #str_vm = f\"{vm:.4f}\"\n",
    "        #am = 2 * 10 / (float(proc_linha[-2]) ** 2)\n",
    "        #str_am = f\"{am:.4f}\"\n",
    "        #proc_linha.append(str_vm)\n",
    "        #proc_linha.append(str_am)\n",
    "        \n",
    "        desvios_laterais.append(float(proc_linha[-1]))\n",
    "        tabela.append(proc_linha)\n",
    "\n",
    "resultado = pd.DataFrame(tabela, columns=[\"2.5m\",\"5m\",\"7.5m\",\"10m\",\"Desvio Lateral(m)\"])\n",
    "display(resultado)\n",
    "\n",
    "dados.close()\n",
    "\n",
    "#print(desvios_laterais)"
   ]
  },
  {
   "cell_type": "markdown",
   "metadata": {
    "colab_type": "text",
    "id": "m1QvZbwoamqM"
   },
   "source": [
    "## Movimento Pendular\n",
    "\n",
    "Foram utilizados três celulares ao todo neste experimento. Uma pessoa realizou o experimento de descer, de bicileta, um trajeto pré-definido levemente inclinado, enquanto um celular com a função de acelerômetro do aplicativo **Physics Toolbox** ativada estava apoiado na cestinha da bicicleta. Outro participante do experimento filmou as decidas enquanto a cronometragem do experimento foi realizada por um terceiro participante.\n",
    "\n",
    "O experimento foi feito em uma superfície inclinada, mais especificamente a entrada do portão principal do Parque Villa-Lobos, cuja inclinação foi medida em dois graus. Na primeira parte do experimento, mediu-se o tempo do trajeto quando o ciclista passava pelas marcas 10, 20 e 30 metros. Havia menos pessoas para executar este experimento, então usou-se apenas uma pessoa com um cronômetro para gravar o experimento, e apenas um ciclista, dado que o ciclista não deveria impactar o resultado do experimento. O ciclista executou uma passagem pelo percurso duas vezes nestas condições. Na segunda parte do experimento, anotou-se os instantes de tempo para cada 5 metros do percurso (i.e.: Nas posições 5, 10, 15, 20, 25 e 30). Este também foi executado duas vezes.\n",
    "\n",
    "Estamos considerando o espaço inicial (`s_o`) igual a zero e a velocidade inicial (`v_o`) também sendo igual a zero."
   ]
  },
  {
   "cell_type": "markdown",
   "metadata": {
    "colab_type": "text",
    "id": "MtAD65Foamrw"
   },
   "source": [
    "## Sensores\n",
    "Seguem abaixo os gráficos dos dados obtidos pelo Physics Toolbox:\n",
    "\n",
    "\n",
    "### Movimento Oblíquo\n",
    "![Exp1 rodada1](img/exp1rodada1.png)\n",
    "\n",
    "![Exp1 rodada2](img/exp1rodada2.png)\n",
    "\n",
    "![Exp1 rodada3](img/exp1rodada3.png)\n",
    "\n",
    "![Exp1 rodada4](img/exp1rodada4.png)\n",
    "\n",
    "![Exp1 rodada5](img/exp1rodada5.png)\n",
    "\n",
    "### Movimento Pendular\n",
    "![Exp2 rodada1](img/exp2rodada1.png)\n",
    "\n",
    "![Exp2 rodada2](img/exp2rodada2.png)\n",
    "\n",
    "![Exp2 rodada3](img/exp2rodada3.png)\n",
    "\n",
    "![Exp2 rodada4](img/exp2rodada4.png)\n",
    "\n",
    "![Exp2 rodada5](img/exp2rodada5.png)"
   ]
  },
  {
   "cell_type": "markdown",
   "metadata": {
    "colab_type": "text",
    "id": "4fwryk8Tamrw"
   },
   "source": [
    "# Análise\n",
    "\n",
    "~~Usando os dados obtidos pelo acelerômetro, foi possível estimar os tempos de cada experimento. Podemos assim simular gráficos usando Euler e a solução analítica. Para os valores de delta_t foi usado as diferenças de tempo entre as detecções do Physic Toolbox, por curiosidade se isto seria suficiente para simular um Euler razoavelmente próximo da realidade."
   ]
  },
  {
   "cell_type": "markdown",
   "metadata": {},
   "source": [
    "## Movimento Oblíquo"
   ]
  },
  {
   "cell_type": "code",
   "execution_count": 4,
   "metadata": {
    "colab": {
     "base_uri": "https://localhost:8080/",
     "height": 3041
    },
    "colab_type": "code",
    "executionInfo": {
     "elapsed": 3500,
     "status": "ok",
     "timestamp": 1555892490300,
     "user": {
      "displayName": "Arthur Sakayan Vieira de Melo",
      "photoUrl": "",
      "userId": "02173098659234416468"
     },
     "user_tz": 0
    },
    "id": "m70cOr3farXw",
    "outputId": "61d10ba5-c76e-45ce-fed2-673d2bb2f2b5"
   },
   "outputs": [
    {
     "name": "stdout",
     "output_type": "stream",
     "text": [
      "16.537 0.86\n",
      "8.316 1.71\n",
      "14.85 0.95\n",
      "17.234 0.86\n",
      "14.42 1.46\n"
     ]
    }
   ],
   "source": [
    "import matplotlib.pyplot as p\n",
    "\n",
    "#Intervalos de tempo de cada experimento. Estes foram extraídos por observação dos sensores!\n",
    "lista_tempos = [16.537,8.316,14.85,17.234,14.42]\n",
    "\n",
    "delta_t = 0.1 #ajustável\n",
    "\n",
    "while lista_tempos:\n",
    "    tf = lista_tempos.pop(0)\n",
    "    desvio_lateral = desvios_laterais.pop(0) #obtido anteriormente\n",
    "    \n",
    "    #print(tf,desvio_lateral)\n",
    "    \n",
    "#t=[]\n",
    "#for x in range(12):\n",
    "    #y=0\n",
    "    \n",
    "    #\n",
    "    #v=[30/18.23,30/18.78,30/19.91,30/19.73,30/17.16,30/15.93,30/18.38,30/18.64,30/20.57,30/19.67,30/16.01,30/15.07]\n",
    "    #analitico=[]\n",
    "    #euler=[]\n",
    "    #for z in range(1,len(t[x])):\n",
    "    #    analitico.append((t[x][z]-5)*v[x])\n",
    "    #    euler.append(y)\n",
    "    #    y+=(v[x]*(t[x][z]-t[x][z-1]))\n",
    "    #p.plot(t[x][:len(euler)],euler,'r', label='Euler')\n",
    "    #p.plot(t[x][:len(analitico)],analitico, label='Analítico')\n",
    "    #p.legend(loc='lower right')\n",
    "    #p.title(\"Experimento \" + str(x+1))\n",
    "    #p.xlabel(\"tempo(s)\")\n",
    "    #p.ylabel(\"posição(m)\")\n",
    "    #p.show()"
   ]
  },
  {
   "cell_type": "markdown",
   "metadata": {},
   "source": [
    "## MUV"
   ]
  },
  {
   "cell_type": "code",
   "execution_count": 14,
   "metadata": {
    "colab": {
     "base_uri": "https://localhost:8080/",
     "height": 1025
    },
    "colab_type": "code",
    "executionInfo": {
     "elapsed": 1500,
     "status": "ok",
     "timestamp": 1555892516900,
     "user": {
      "displayName": "Arthur Sakayan Vieira de Melo",
      "photoUrl": "",
      "userId": "02173098659234416468"
     },
     "user_tz": 0
    },
    "id": "QC6eoR71a2k8",
    "outputId": "7defc6b0-ff4a-46bb-b556-694223854d7a"
   },
   "outputs": [
    {
     "data": {
      "image/png": "[encoded data removed]",
      "text/plain": [
       "<Figure size 432x288 with 1 Axes>"
      ]
     },
     "metadata": {
      "needs_background": "light"
     },
     "output_type": "display_data"
    },
    {
     "data": {
      "image/png": "[encoded data removed]",
      "text/plain": [
       "<Figure size 432x288 with 1 Axes>"
      ]
     },
     "metadata": {
      "needs_background": "light"
     },
     "output_type": "display_data"
    },
    {
     "data": {
      "image/png": "[encoded data removed]",
      "text/plain": [
       "<Figure size 432x288 with 1 Axes>"
      ]
     },
     "metadata": {
      "needs_background": "light"
     },
     "output_type": "display_data"
    },
    {
     "data": {
      "image/png": "[encoded data removed]",
      "text/plain": [
       "<Figure size 432x288 with 1 Axes>"
      ]
     },
     "metadata": {
      "needs_background": "light"
     },
     "output_type": "display_data"
    }
   ],
   "source": [
    "import matplotlib.pyplot as p\n",
    "t=[[5.056,5.147,5.238,5.328,5.419,5.514,5.603,5.706,5.807,5.872,5.962,6.053,6.143,6.234,6.324,6.42,6.509,6.616,6.712,6.777,6.868,6.958,7.049,7.139,7.23,7.322,7.421,7.516,7.619,7.683,7.773,7.864,7.955,8.045,8.136,8.227,8.324,8.422,8.528,8.588,8.679,8.769,8.86,8.951,9.041,9.138,9.225,9.333,9.427,9.494,9.585,9.675,9.766,9.856,9.947,10.04,10.136,10.232,10.337,10.4,10.49,10.581,10.672,10.762,10.852,10.944,11.042,11.137,11.244,11.305,11.396,11.487,11.577,11.668,11.758,11.85,11.942,12.05,12.142,12.211,12.302,12.392,12.483,12.573,12.664,12.759,12.849,12.952,13.052,13.117,13.207,13.298,13.388,13.479,13.57,13.661,13.762,13.856,13.961,14.022,14.113,14.204,14.294,14.385,14.475,14.568,14.66,14.764,14.864,14.928,15.019,15.109,15.2,15.29,15.381,15.476,15.567,15.673,15.77,15.834,15.924,16.015,16.105,16.196,16.286,16.379,16.471,16.576,16.675,16.74,16.83,16.921,17.011,17.102,17.192,17.288,17.38,17.478,17.586,17.645,17.736,17.826,17.917,18.007,18.098,18.19,18.287,18.388,18.488,18.551,18.641,18.732,18.822,18.913,19.003,19.097,19.193,19.292,19.392,19.456,19.547,19.638,19.728,19.818,19.909,20.001,20.097,20.197,20.298,20.362,20.453,20.543,20.634,20.724,20.815,20.907,21.003,21.099,21.206,21.268,21.358,21.449,],[5.032,5.132,5.23,5.304,5.394,5.485,5.576,5.666,5.757,5.847,5.938,6.037,6.138,6.21,6.3,6.391,6.481,6.572,6.662,6.753,6.843,6.941,7.039,7.142,7.206,7.296,7.387,7.477,7.568,7.658,7.749,7.85,7.949,8.021,8.111,8.202,8.292,8.383,8.473,8.564,8.654,8.754,8.853,8.926,9.017,9.107,9.198,9.289,9.379,9.47,9.56,9.662,9.762,9.832,9.923,10.013,10.104,10.194,10.285,10.375,10.466,10.567,10.665,10.738,10.828,10.919,11.009,11.1,11.191,11.281,11.371,11.473,11.57,11.643,11.734,11.824,11.915,12.006,12.096,12.187,12.277,12.377,12.476,12.549,12.639,12.73,12.821,12.911,13.002,13.092,13.183,13.283,13.382,13.455,13.545,13.635,13.726,13.817,13.907,13.998,14.089,14.186,14.287,14.36,14.451,14.542,14.632,14.722,14.813,14.903,14.994,15.096,15.195,15.266,15.356,15.447,15.537,15.628,15.719,15.809,15.901,16.001,16.101,16.171,16.262,16.352,16.443,16.534,16.624,16.715,16.807,16.909,17.004,17.077,17.168,17.258,17.349,17.439,17.53,17.62,17.712,17.813,17.91,17.983,18.073,18.164,18.254,18.345,18.436,18.526,18.618,18.718,18.817,18.888,18.979,19.07,19.16,19.25,19.341,],[5.032,5.122,5.213,5.303,5.394,5.484,5.577,5.674,5.756,5.854,5.937,6.028,6.119,6.209,6.299,6.39,6.483,6.583,6.662,6.758,6.843,6.933,7.026,7.115,7.205,7.296,7.39,7.49,7.567,7.664,7.749,7.839,7.93,8.02,8.111,8.201,8.294,8.396,8.473,8.572,8.654,8.745,8.836,8.926,9.016,9.107,9.201,9.301,9.379,9.475,9.56,9.65,9.741,9.832,9.922,10.013,10.106,10.206,10.285,10.381,10.465,10.556,10.649,10.737,10.828,10.918,11.01,11.113,11.19,11.287,11.371,11.462,11.553,11.643,11.733,11.824,11.92,12.018,12.096,12.194,12.277,12.367,12.458,12.548,12.639,12.729,12.824,12.925,13.001,13.096,13.183,13.273,13.364,13.454,13.545,13.635,13.727,13.827,13.907,14.005,14.088,14.179,14.271,14.36,14.45,14.541,14.634,14.737,14.813,14.91,14.994,15.084,15.175,15.266,15.356,15.447,15.543,15.641,15.718,15.814,15.899,15.99,16.083,16.171,16.262,16.352,16.445,16.547,16.624,16.719,16.805,16.896,16.986,17.077,17.167,17.258,17.355,17.458,17.529,17.625,17.711,17.801,17.892,17.982,18.073,18.163,18.257,18.36,18.435,18.532,18.616,18.707,18.798,18.888,18.979,19.069,19.163,19.266,19.341,19.436,19.522,19.613,19.703,19.794,19.884,],[5.032,5.127,5.213,5.305,5.406,5.485,5.577,5.666,5.768,5.847,5.938,6.032,6.119,6.214,6.316,6.39,6.482,6.573,6.672,6.753,6.844,6.938,7.024,7.118,7.218,7.296,7.386,7.481,7.577,7.658,7.749,7.844,7.93,8.023,8.127,8.202,8.293,8.383,8.483,8.564,8.655,8.749,8.835,8.929,9.035,9.107,9.199,9.291,9.387,9.47,9.56,9.652,9.741,9.836,9.94,10.013,10.104,10.197,10.294,10.375,10.466,10.558,10.647,10.745,10.843,10.918,11.01,11.102,11.2,11.281,11.371,11.464,11.552,11.647,11.752,11.824,11.915,12.007,12.105,12.186,12.277,12.37,12.458,12.557,12.66,12.73,12.821,12.913,13.01,13.092,13.183,13.275,13.363,13.461,13.561,13.635,13.727,13.818,13.914,13.998,14.088,14.18,14.269,14.366,14.471,14.541,14.631,14.723,14.822,14.903,14.994,15.086,15.175,15.274,15.372,15.447,15.537,15.628,15.728,15.809,15.899,15.992,16.08,16.178,16.279,16.352,16.443,16.533,16.631,16.714,16.805,16.897,16.988,17.086,17.188,17.258,17.35,17.439,17.537,17.62,17.71,17.803,17.892,17.994,18.097,18.163,18.255,18.345,18.441,18.526,18.616,18.708,18.797,18.896,18.999,19.069,19.161,19.25,19.348,19.431,19.522,19.614,19.704,19.808,19.906,19.975,20.066,20.157,20.253,20.337,20.428,20.52,]]\n",
    "for x in range(len(t)):\n",
    "\ty=0\n",
    "\tv=0\n",
    "\ta=[0.2105,0.2493,0.243,0.2125]\n",
    "\tanalitico=[]\n",
    "\teuler=[]\n",
    "\tfor z in range(1,len(t[x])):\n",
    "\t\tanalitico.append(a[x]*t[x][z]**2/2)\n",
    "\t\teuler.append(y)\n",
    "\t\ty+=v*(t[x][z]-t[x][z-1])\n",
    "\t\tv+=a[x]*(t[x][z]-t[x][z-1])\n",
    "\tp.plot(t[x][:len(euler)],euler,'r',label=\"Euler\")\n",
    "\tp.plot(t[x][:len(analitico)],analitico,label='Analítico')\n",
    "\tp.xlabel('Tempo(s)')\n",
    "\tp.ylabel('Posição(m)')\n",
    "\tp.title(\"Experimento \" + str(x+1))\n",
    "\tp.show()"
   ]
  },
  {
   "cell_type": "markdown",
   "metadata": {
    "colab_type": "text",
    "id": "1KiNlGvqamrw"
   },
   "source": [
    "# Interpretação\n",
    "\n",
    "~~Observando-se os gráficos dos sensores do celular, é possível distinguir com relativa facilidade quando o experimento começa e termina. Mesmo que haja imprecisão na determinação deste instantes, é possível notar que é melhor do que os instantes determinados pelos cronômetros. Por exemplo, nos primeiro gráfico do MU, os cronômetros detectaram que o experimento terminou em 18,23s. Se observamos os gráficos, notamos que no primeiro o experimento iniciou ao redor de 4,043 e terminou ao redor de 24,442, resultando em 20,399s. \n",
    "\n",
    "~~Esta diferença é facilmente explicada pelo tempo de reação do observador ao detectar tanto o início quanto o término do experimento. Mas não é possível distinguir em qual posição o transeunte está simplesmente pelo gráfico do sensor, sendo necessário a presença dos observadores com cronômetros para tal. Talvez se o celular fosse agitado quando a pessoa passasse por cada marcação do experimento, mas seria necessário analisar uma metodologia para tentar padronizar esta agitação e se esta agitação seria mais precisa do que a marcaçao por cronômetros.\n",
    "\n",
    "~~Também é interessante notar que os gráficos do MUV e MU tiveram uma intensidade diferente; Isto porque o experimento de MUV foi sobre uma bicicleta em vez do caminhar de uma pessoa, o que aparentemente contribuiu bastante para diminuir o módulo das forças que agiram sobre o celular enquanto a medição ocorria.\n",
    "\n",
    "## Comparação entre simulação de Euler e Solução analítica\n",
    "\n",
    "~~Foi possível notar que no MU, o `delta_t` proposto foi adequado para que pudéssemos simular o movimento de maneira bem próxima ao calculado pela solução analítica. Isto pode ser derivado principalmente pela própria simplicidade do MU, na qual há apenas uma derivada da posição para ser determinada por Euler.\n",
    "\n",
    "~~No MUV, o `delta_t` proposto é, claramente, inadequado para a simulação do movimento pois as duas curvas estão divergindo cada vez mais. Isto também pode ser por causa de inacurácias nas medições mas é inegável que um `delta_t` menor iria aumentar a precisão no algoritmo de Euler. "
   ]
  },
  {
   "cell_type": "markdown",
   "metadata": {
    "colab_type": "text",
    "id": "eUM2As9kamrw"
   },
   "source": [
    "# Analise crítica\n",
    "\n",
    "~~Diversos problemas foram causados na medição. O tempo de reação de cada pessoa que funciona como um sensor foi notavelmente variável, não se podendo ter certeza se no Movimento Uniforme(MU) as variações nas marcações eram devidas a variações na velocidade ou se foi apenas imprecisão dos sensores. Esse é um aspecto a ser considerado e avaliado para um melhor aproveitamento e precisão das medições em futuros experimentos.\n",
    "\n",
    "~~Queríamos realizar o experimento de Movimento Uniformemente Variado(MUV) com uma bicileta num declive para que pudéssemos ter maior precisão na aceleração; entretanto, só foi possível realizar este experimento na Semana Santa e não tínhamos todos os integrantes do grupo. Além disso, instabilidades no tempo nos levaram a realizar menos experimentos para que pudéssemos terminar antes que começasse a chover. Outros problemas encontrados envolveram a espera entre experimentos devido ao tráfego de transeuntes no local e um segurança do Parque perguntando o que estávamos fazendo (felizmente, já tínhamos terminado o experimento quando isto ocorreu).\n",
    "\n",
    "~~Quanto a técnicas computacionais, mais uma vez, é preciso considerar no algoritmo erros como medições imprecisas e interferências externas, além, é claro, das próprias limitações computacionais, dado que a precisão infinita é algo além do poder de qualquer máquina. \n",
    "\n",
    "~~Usar a linguagem Python para realização dos cálculos facilitou a implementação do algoritmo. Houve uma certa dificuldade em se certificar de que o notebook Jupyter iria funcionar em todas as máquinas. Em um dos computadores, a instalação apenas do Jupyter não foi suficiente, pois a impressão de tabelas usou o módulo *pandas* e, mesmo usando o *pip* para instalar o Pandas, o notebook não reconheceu a instalação do módulo. No fim das contas, instalar o pacote Anaconda padronizou as instalações e facilitou o processo de usar o notebook para todos."
   ]
  },
  {
   "cell_type": "markdown",
   "metadata": {
    "colab_type": "text",
    "id": "krghak3Jamrw"
   },
   "source": [
    "# Log\n",
    "\n",
    "-  Experimento Prático: 6h (todos)\n",
    "    -  Alexandre\n",
    "    -  Arthur\n",
    "    -  Ricardo\n",
    "\n",
    "-  Programando: 12h (total)\n",
    "    -  Alexandre\n",
    "    -  Arthur\n",
    "    -  Ricardo\n",
    "\n",
    "-  Elaboração do Relatório: 18h(total)\n",
    "    -  Alexandre\n",
    "    -  Arthur\n",
    "    -  Ricardo\n"
   ]
  },
  {
   "cell_type": "markdown",
   "metadata": {
    "colab_type": "text",
    "id": "l1oYUT5jamrw"
   },
   "source": [
    "# Contribuição dos Autores\n",
    "\n",
    "Os três membros participaram dos experimentos, tanto como coordenadores, sensores e participantes. Todos também participaram da análise de dados coletados e da elaboração do relatório."
   ]
  },
  {
   "cell_type": "markdown",
   "metadata": {
    "colab_type": "text",
    "id": "69GRU3Muamrw"
   },
   "source": [
    "# Referências\n",
    "\"Smartphones as Experimental Tools: Different Methods to Determine the Gravitational Acceleration in Classroom Physics by Using Everyday Devices\"\n",
    "https://eric.ed.gov/?id=EJ1052301"
   ]
  }
 ],
 "metadata": {
  "colab": {
   "name": "plesase.ipynb",
   "provenance": [],
   "version": "0.3.2"
  },
  "kernelspec": {
   "display_name": "Python 3",
   "language": "python",
   "name": "python3"
  },
  "language_info": {
   "codemirror_mode": {
    "name": "ipython",
    "version": 3
   },
   "file_extension": ".py",
   "mimetype": "text/x-python",
   "name": "python",
   "nbconvert_exporter": "python",
   "pygments_lexer": "ipython3",
   "version": "3.7.3"
  }
 },
 "nbformat": 4,
 "nbformat_minor": 1
}
