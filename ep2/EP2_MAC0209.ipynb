{
 "cells": [
  {
   "cell_type": "markdown",
   "metadata": {
    "colab_type": "text",
    "id": "sl17NFKFamoo"
   },
   "source": [
    "# EP 2 de MAC 209\n",
    "**Nomes/NUSP:**\n",
    "\n",
    "    Ricardo Mikio Morita             5412562\n",
    "    Alexandre Muller Jones           8038149\n",
    "    Arthur Sakayan Vieira de Melo    10297647\n",
    "    "
   ]
  },
  {
   "cell_type": "markdown",
   "metadata": {
    "colab_type": "text",
    "id": "xWh3On4Bamoo"
   },
   "source": [
    "# Introdução\n",
    "\n",
    "Os experimentos realizados durante o segundo Exercício-Programa(EP) buscou observar os seguintes fenômenos: O **Movimento Oblíquo** (MO), o **Movimento Pendular** (MP) e a estimação da gravidade através do quicar sucessivo de uma bola em queda livre(QL).\n",
    "\n",
    "### Movimento Oblíquo\n",
    "O primeiro experimento descreveria o percurso de um carrinho descendo uma rampa, como na ilustração abaixo. \n",
    "\n",
    "<img src=\"img/descida_carro.png\" alt=\"Drawing\" style=\"width: 500px;\"/>\n",
    "<div align=\"center\"><i>Visão lateral do experimento</i></div>\n",
    "\n",
    "Infelizmente, o carro tendia a puxar para o lado esquerdo da rampa em vez de seguir o trajeto da rampa em linha reta. Então, lançamos o carro em uma inclinação para o lado direito, o que fez com que este seguisse uma trajetória oblíqua em relação a uma reta paralela à rampa, até o destino final, 10m adiante. Podemos visualizar o movimento descrito pelo carro na imagem abaixo:\n",
    "\n",
    "<img src=\"img/visao_aerea_descida_carro.png\" alt=\"Drawing\" style=\"width: 500px;\"/>\n",
    "<div align=\"center\"><i>Visão aérea do experimento</i></div>\n",
    "\n",
    "Em todos os experimentos, o carro teve em seu teto um celular acoplado que tinha seu acelerômetro ligado, o qual permitia avaliar quando cada experimento começou e terminou. Além disso, um aluno foi responsável por iniciar e terminar o movimento, além de determinar o desvio máximo que o carro naquele experimento; um outro aluno foi responsável por marcar os instantes em que o experimento começou, e em cada passagem de 2,5m do carrinho, até o seu fim; Um úlimo aluno foi responsável pela filmagem dos experimentos.\n",
    "\n",
    "<img src=\"img/composicao_forcas.png\" alt=\"Drawing\" style=\"width: 200px;\"/>\n",
    "<div align=\"center\"><i>Composição das forças que agem sobre o veículo, numa visão aérea</i></div>\n",
    "\n",
    "A ilustração acima descreve as forças que agem sobre o carro. `Fx` corresponde à força paralela à rampa que corresponde à decomposição do peso no eixo paralelo à superfície inclinada menos a força de atrito do chão sobre o carrinho paralela à rampa e à superfície. `Fy` corresponde à força que puxa o carrinho para a esquerda menos à força de atrito de mesmo sentido e direção oposta à `Fy`.\n",
    "\n",
    "O movimento do carrinho pode ser dividido então em duas partes: A descida do carrinho na rampa e a curvatura de sua trajetória para a esquerda. Nas seções a seguir, da mesma forma como referenciamos a decomposição da força F, consideraremos o movimento no eixo x como o deslocamento do carrinho desde a origem até o fim do movimento, 10m adiante, e como o movimento no eixo y o desvio lateral do carrinho, com sua origem na posição inicial e o desvio lateral máximo como o ponto mais alto neste eixo y.\n",
    "\n",
    "As fórmulas usadas para calcular o deslocamento no eixo x e no eixo y são:\n",
    "\n",
    "| Fórmula | Observações |\n",
    "|---|---|\n",
    "| $$s = s_o + v_o * t - (a * t^2)/2$$ | $s_o$ é a velocidade inicial |\n",
    "| $$v = a * t + v_o $$ | $v_o$ é a velocidade inicial |\n",
    "| $$v^2 = v_o^2 + 2 * a * (s - s_o)$$ | $s$ é a posição final  |\n",
    "| $ $ | $a$ é a aceleração |\n",
    "| $ $ | $t$ é o instante de tempo |\n",
    "\n",
    "\n",
    "### Movimento Pendular\n",
    "Neste experimento temos o celular acoplado a um barbante, o qual está fixado a um suporte. Com o barbante esticado, puxa-se o celular e, após certificar-se que o barbante está levemente tenso, solta-se o celular e deixa-o realizar o movimento de vai-e-vem, como um pêndulo.\n",
    "\n",
    "<img src=\"img/pendulo.png\" alt=\"Drawing\" style=\"width: 397px;\"/>\n",
    "<div align=\"center\"><i>Visão frontal do experimento</i></div>\n",
    "\n",
    "Em todos os experimentos, o celular ligado ao barbante tinha seu acelerômetro ligado, o qual permitia avaliar as forças sofridas pelo celular ao longo do movimento pendular. Além disso, um aluno foi responsável por iniciar e terminar o movimento; um outro aluno foi responsável por operar o crônometro; Um úlimo aluno foi responsável pela filmagem dos experimentos.\n",
    "\n",
    "\n",
    "### Queda Livre\n",
    "Estamos repetindo um dos experimentos encontrados no paper intitulado \"Smartphones as Experimental Tools: Different Methods to Determine the Gravitational Acceleration in Classroom Physics by Using Everyday Devices\" por Kuhn Jochen e Vogt Patrik.\n",
    "\n",
    "\n",
    "A finalidade do experimento é de comparar o uso de simulações de computadores com os modelos teóricos já bem-definidos e comparar os resultados. A partir disso, iremos discutir sobre a utilidade de tal ferramenta diante dos resultados."
   ]
  },
  {
   "cell_type": "markdown",
   "metadata": {
    "colab_type": "text",
    "id": "DworhPX5amoo"
   },
   "source": [
    "# Método\n",
    "\n",
    "O vídeo do experimento segue no local abaixo:\n",
    "\n",
    "## Inserir url do vídeo\n",
    "\n",
    "O programa e os resultados gerados estão disponíveis no seguinte repositório: https://github.com/ricardomorita42/mac0209.\n",
    "\n",
    "Há duas pastas adicionais: `img`, que contém as imagens usadas neste documento, e `dados`, que contém os arquivos csv dos experimentos e duas planilhas com os dados csv processados e os gráficos que estão inseridos neste relatório."
   ]
  },
  {
   "cell_type": "markdown",
   "metadata": {
    "colab_type": "text",
    "id": "x_REsm4Tamoo"
   },
   "source": [
    "# Verificação do Programa\n",
    "\n",
    "Segue abaixo um exemplo de cálculo manual do algoritmo para verificação de corretude.\n"
   ]
  },
  {
   "cell_type": "markdown",
   "metadata": {
    "colab_type": "text",
    "id": "pL4XNJmbamoo"
   },
   "source": [
    "# Dados\n",
    "\n",
    "## Movimento Oblíquo\n",
    "Foi utilizado um celular com a função \"volta\" para marcar os tempos do trajeto do carrinho que realizava o experimento de descida, sendo que em seu teto um celular com a função de acelerômetro do aplicativo **Physics Toolbox** estava ativado. Além disto, foi usado um celular com um tripé para filmar o experimento, além da filmagem feita por um segundo aluno. O registro dos dados foi feito por um dos alunos.\n",
    "\n",
    "O experimento foi feito em uma superfície inclinada, mais especificamente a rampa inclinada da Biblioteca Siciliana. No trajeto de 10 metros, havia marcações em cada 2.5m para registrar os instantes das passagens do carrinho por cada marcação. A inclinação da rampa foi medida como sendo oito graus e a inclinação do carrinho em relação à rampa é de 15 graus.\n",
    "\n",
    "Estamos considerando o espaço inicial (`s_o`) igual a zero.\n",
    "\n",
    "No fim do experimento de Movimento Oblíquo, foram realizadas 5 travessias ao todo. Segue abaixo uma tabela com as marcas de tempo obtidas, além do desvio lateral em cada experimento:"
   ]
  },
  {
   "cell_type": "code",
   "execution_count": 9,
   "metadata": {
    "colab": {},
    "colab_type": "code",
    "id": "YjRVHgilamoo",
    "outputId": "0741781c-c27c-47ca-d925-fb8dcac69caf",
    "scrolled": false
   },
   "outputs": [
    {
     "data": {
      "text/html": [
       "<div>\n",
       "<style scoped>\n",
       "    .dataframe tbody tr th:only-of-type {\n",
       "        vertical-align: middle;\n",
       "    }\n",
       "\n",
       "    .dataframe tbody tr th {\n",
       "        vertical-align: top;\n",
       "    }\n",
       "\n",
       "    .dataframe thead th {\n",
       "        text-align: right;\n",
       "    }\n",
       "</style>\n",
       "<table border=\"1\" class=\"dataframe\">\n",
       "  <thead>\n",
       "    <tr style=\"text-align: right;\">\n",
       "      <th></th>\n",
       "      <th>2.5m</th>\n",
       "      <th>5m</th>\n",
       "      <th>7.5m</th>\n",
       "      <th>10m</th>\n",
       "      <th>Desvio lateral(m)</th>\n",
       "    </tr>\n",
       "  </thead>\n",
       "  <tbody>\n",
       "    <tr>\n",
       "      <th>0</th>\n",
       "      <td>5.42</td>\n",
       "      <td>7.87</td>\n",
       "      <td>9.78</td>\n",
       "      <td>11.57</td>\n",
       "      <td>0.86</td>\n",
       "    </tr>\n",
       "    <tr>\n",
       "      <th>1</th>\n",
       "      <td>7.17</td>\n",
       "      <td>9.95</td>\n",
       "      <td>12.14</td>\n",
       "      <td>13.92</td>\n",
       "      <td>1.71</td>\n",
       "    </tr>\n",
       "    <tr>\n",
       "      <th>2</th>\n",
       "      <td>6.87</td>\n",
       "      <td>10.14</td>\n",
       "      <td>12.50</td>\n",
       "      <td>19.84</td>\n",
       "      <td>0.95</td>\n",
       "    </tr>\n",
       "    <tr>\n",
       "      <th>3</th>\n",
       "      <td>7.11</td>\n",
       "      <td>10.74</td>\n",
       "      <td>12.90</td>\n",
       "      <td>15.02</td>\n",
       "      <td>0.86</td>\n",
       "    </tr>\n",
       "    <tr>\n",
       "      <th>4</th>\n",
       "      <td>6.20</td>\n",
       "      <td>9.10</td>\n",
       "      <td>11.16</td>\n",
       "      <td>13.92</td>\n",
       "      <td>1.46</td>\n",
       "    </tr>\n",
       "  </tbody>\n",
       "</table>\n",
       "</div>"
      ],
      "text/plain": [
       "   2.5m      5m     7.5m      10m Desvio lateral(m)\n",
       "0  5.42    7.87     9.78    11.57              0.86\n",
       "1  7.17    9.95    12.14    13.92              1.71\n",
       "2  6.87   10.14    12.50    19.84              0.95\n",
       "3  7.11   10.74    12.90    15.02              0.86\n",
       "4  6.20    9.10    11.16    13.92              1.46"
      ]
     },
     "metadata": {},
     "output_type": "display_data"
    }
   ],
   "source": [
    "import pandas as pd\n",
    "tabela = []\n",
    "desvios_laterais = [] #salvando para uso posterior\n",
    "\n",
    "dados = open(\"dados/dados_MO.txt\",'r')\n",
    "\n",
    "for linha in dados:\n",
    "    if ('#' not in linha):\n",
    "        proc_linha = (linha.rstrip('\\n')).split(';')\n",
    "        desvios_laterais.append(float(proc_linha[-1]))\n",
    "        tabela.append(proc_linha)\n",
    "\n",
    "resultado = pd.DataFrame(tabela, columns=[\"2.5m\",\"5m\",\"7.5m\",\"10m\",\"Desvio lateral(m)\"])\n",
    "display(resultado)\n",
    "\n",
    "dados.close()\n",
    "\n",
    "#print(desvios_laterais)"
   ]
  },
  {
   "cell_type": "markdown",
   "metadata": {
    "colab_type": "text",
    "id": "m1QvZbwoamqM"
   },
   "source": [
    "## Movimento Pendular\n",
    "\n",
    "Foram utilizados três celulares ao todo neste experimento, que foi realizado em uma mureta da mesma biblioteca do experimento anterior. Amarramos um celular com barbante e o penduramos próximo à parede, na qual ficamos 2 folhas de papel milimetrado. Ao lado do pendulo, colocamos outro celular, utilizado como cronômetro, e o terceiro realizou a filmagem.\n",
    "\n",
    "Em cada experimento, foi realizada uma captura de dados pelo Physics Toolbox e uma filmagem, realizada utilizando uma função de filmagem em alta taxa de quadros para melhor precisão na analise do vídeo. A tomada de tempos de cada oscilação, portanto, foi obtida a partir da análise quadro a quadro do balançar do pêndulo, utilizando o papel milimetrado como base de comparação para aferir o quadro exato no qual o pêndulo tinha velocidade 0 e, então, anotando o tempo mostrado no crônometro. Dessa forma, melhoramos a precisão da medida do tempo visto que não precisamos mais considerar a imprecisão humana e o tempo de reação de apertar o botão no crônometro.\n",
    "\n",
    "No papel milimetrado, também, marcamos, aproximadamente, a região da qual deveriamos soltar o pendulo para obter uma amplitude razoável sem que o angulo inicial fosse grande demais, de forma que pudessemos, na modelagem, utilizar a aproximação de angulo pequeno (`sin(tetha) = tetha`).\n",
    "\n",
    "Da analise dos vídeos, obtivemos medidas para os tempos em que, em cada execução, o pendulo chegava em cada ápice (definido como o ponto de v = 0, ponto de mudança de direção do movimento). Abaixo, estão listados esses valores de tempo:"
   ]
  },
  {
   "cell_type": "code",
   "execution_count": 10,
   "metadata": {
    "scrolled": false
   },
   "outputs": [
    {
     "data": {
      "text/html": [
       "<div>\n",
       "<style scoped>\n",
       "    .dataframe tbody tr th:only-of-type {\n",
       "        vertical-align: middle;\n",
       "    }\n",
       "\n",
       "    .dataframe tbody tr th {\n",
       "        vertical-align: top;\n",
       "    }\n",
       "\n",
       "    .dataframe thead th {\n",
       "        text-align: right;\n",
       "    }\n",
       "</style>\n",
       "<table border=\"1\" class=\"dataframe\">\n",
       "  <thead>\n",
       "    <tr style=\"text-align: right;\">\n",
       "      <th></th>\n",
       "      <th>Apices</th>\n",
       "      <th>1</th>\n",
       "      <th>2</th>\n",
       "      <th>3</th>\n",
       "      <th>4</th>\n",
       "      <th>5</th>\n",
       "      <th>6</th>\n",
       "      <th>7</th>\n",
       "      <th>8</th>\n",
       "      <th>9</th>\n",
       "      <th>10</th>\n",
       "      <th>11</th>\n",
       "      <th>12</th>\n",
       "      <th>13</th>\n",
       "    </tr>\n",
       "  </thead>\n",
       "  <tbody>\n",
       "    <tr>\n",
       "      <th>0</th>\n",
       "      <td>0</td>\n",
       "      <td>0.98</td>\n",
       "      <td>1.83</td>\n",
       "      <td>2.75</td>\n",
       "      <td>3.59</td>\n",
       "      <td>4.51</td>\n",
       "      <td>5.42</td>\n",
       "      <td>6.27</td>\n",
       "      <td>7.12</td>\n",
       "      <td>8.03</td>\n",
       "      <td>8.94</td>\n",
       "      <td>9.85</td>\n",
       "      <td>10.7</td>\n",
       "      <td>11.61</td>\n",
       "    </tr>\n",
       "    <tr>\n",
       "      <th>1</th>\n",
       "      <td>0</td>\n",
       "      <td>0.85</td>\n",
       "      <td>1.76</td>\n",
       "      <td>2.67</td>\n",
       "      <td>3.52</td>\n",
       "      <td>4.44</td>\n",
       "      <td>5.29</td>\n",
       "      <td>6.2</td>\n",
       "      <td>7.11</td>\n",
       "      <td>8.02</td>\n",
       "      <td>8.87</td>\n",
       "      <td>9.78</td>\n",
       "      <td>10.7</td>\n",
       "      <td>11.55</td>\n",
       "    </tr>\n",
       "    <tr>\n",
       "      <th>2</th>\n",
       "      <td>0</td>\n",
       "      <td>0.72</td>\n",
       "      <td>1.63</td>\n",
       "      <td>2.48</td>\n",
       "      <td>3.45</td>\n",
       "      <td>4.36</td>\n",
       "      <td>5.28</td>\n",
       "      <td>6.19</td>\n",
       "      <td>7.1</td>\n",
       "      <td>8.01</td>\n",
       "      <td>8.86</td>\n",
       "      <td>9.77</td>\n",
       "      <td>10.68</td>\n",
       "      <td>11.53</td>\n",
       "    </tr>\n",
       "    <tr>\n",
       "      <th>3</th>\n",
       "      <td>0</td>\n",
       "      <td>1.85</td>\n",
       "      <td>2.7</td>\n",
       "      <td>3.61</td>\n",
       "      <td>4.46</td>\n",
       "      <td>5.37</td>\n",
       "      <td>6.22</td>\n",
       "      <td>7.14</td>\n",
       "      <td>7.99</td>\n",
       "      <td>8.9</td>\n",
       "      <td>9.75</td>\n",
       "      <td>10.66</td>\n",
       "      <td>11.57</td>\n",
       "      <td>12.49</td>\n",
       "    </tr>\n",
       "    <tr>\n",
       "      <th>4</th>\n",
       "      <td>0</td>\n",
       "      <td>0.91</td>\n",
       "      <td>1.76</td>\n",
       "      <td>2.61</td>\n",
       "      <td>3.52</td>\n",
       "      <td>4.43</td>\n",
       "      <td>5.35</td>\n",
       "      <td>6.26</td>\n",
       "      <td>7.11</td>\n",
       "      <td>8.01</td>\n",
       "      <td>8.93</td>\n",
       "      <td>9.84</td>\n",
       "      <td>10.75</td>\n",
       "      <td>11.54</td>\n",
       "    </tr>\n",
       "  </tbody>\n",
       "</table>\n",
       "</div>"
      ],
      "text/plain": [
       "  Apices     1     2     3     4     5     6     7     8     9    10     11  \\\n",
       "0      0  0.98  1.83  2.75  3.59  4.51  5.42  6.27  7.12  8.03  8.94   9.85   \n",
       "1      0  0.85  1.76  2.67  3.52  4.44  5.29   6.2  7.11  8.02  8.87   9.78   \n",
       "2      0  0.72  1.63  2.48  3.45  4.36  5.28  6.19   7.1  8.01  8.86   9.77   \n",
       "3      0  1.85   2.7  3.61  4.46  5.37  6.22  7.14  7.99   8.9  9.75  10.66   \n",
       "4      0  0.91  1.76  2.61  3.52  4.43  5.35  6.26  7.11  8.01  8.93   9.84   \n",
       "\n",
       "      12     13  \n",
       "0   10.7  11.61  \n",
       "1   10.7  11.55  \n",
       "2  10.68  11.53  \n",
       "3  11.57  12.49  \n",
       "4  10.75  11.54  "
      ]
     },
     "metadata": {},
     "output_type": "display_data"
    }
   ],
   "source": [
    "import pandas as pd\n",
    "tabela = []\n",
    "colunas = ['Apices']\n",
    "dados = open(\"dados/dados_P.txt\",'r')\n",
    "\n",
    "for linha in dados:\n",
    "    if ('#' not in linha):\n",
    "        linhaaux = linha.replace(',', '.')\n",
    "        proc_linha = (linhaaux.rstrip('\\n')).split('\\t')\n",
    "        tabela.append(proc_linha)\n",
    "        \n",
    "for i in range(1,14):\n",
    "    colunas.append(i)\n",
    "\n",
    "resultado = pd.DataFrame(tabela, columns = colunas)\n",
    "display(resultado)\n",
    "\n",
    "dados.close()\n"
   ]
  },
  {
   "cell_type": "markdown",
   "metadata": {},
   "source": [
    "A partir desses dados, considerando que um período seria o tempo total entre 2 ápices de mesmo sinal, conseguimos uma medida que chamamos de semi-período, correspondente ao tempo entre um ápice e o próximo, de sinais inversos. Abaixo, segue uma tabela com esses valores, assim como uma média calculada para cada experimento e a média geral:"
   ]
  },
  {
   "cell_type": "code",
   "execution_count": 11,
   "metadata": {},
   "outputs": [
    {
     "data": {
      "text/html": [
       "<div>\n",
       "<style scoped>\n",
       "    .dataframe tbody tr th:only-of-type {\n",
       "        vertical-align: middle;\n",
       "    }\n",
       "\n",
       "    .dataframe tbody tr th {\n",
       "        vertical-align: top;\n",
       "    }\n",
       "\n",
       "    .dataframe thead th {\n",
       "        text-align: right;\n",
       "    }\n",
       "</style>\n",
       "<table border=\"1\" class=\"dataframe\">\n",
       "  <thead>\n",
       "    <tr style=\"text-align: right;\">\n",
       "      <th></th>\n",
       "      <th>0</th>\n",
       "      <th>1</th>\n",
       "      <th>2</th>\n",
       "      <th>3</th>\n",
       "      <th>4</th>\n",
       "      <th>5</th>\n",
       "      <th>6</th>\n",
       "      <th>7</th>\n",
       "      <th>8</th>\n",
       "      <th>9</th>\n",
       "      <th>10</th>\n",
       "      <th>11</th>\n",
       "      <th>12</th>\n",
       "      <th>Média</th>\n",
       "    </tr>\n",
       "  </thead>\n",
       "  <tbody>\n",
       "    <tr>\n",
       "      <th>0</th>\n",
       "      <td>0.98</td>\n",
       "      <td>0.85</td>\n",
       "      <td>0.92</td>\n",
       "      <td>0.84</td>\n",
       "      <td>0.92</td>\n",
       "      <td>0.91</td>\n",
       "      <td>0.85</td>\n",
       "      <td>0.85</td>\n",
       "      <td>0.91</td>\n",
       "      <td>0.91</td>\n",
       "      <td>0.91</td>\n",
       "      <td>0.85</td>\n",
       "      <td>0.91</td>\n",
       "      <td>0.893</td>\n",
       "    </tr>\n",
       "    <tr>\n",
       "      <th>1</th>\n",
       "      <td>0.85</td>\n",
       "      <td>0.91</td>\n",
       "      <td>0.91</td>\n",
       "      <td>0.85</td>\n",
       "      <td>0.92</td>\n",
       "      <td>0.85</td>\n",
       "      <td>0.91</td>\n",
       "      <td>0.91</td>\n",
       "      <td>0.91</td>\n",
       "      <td>0.85</td>\n",
       "      <td>0.91</td>\n",
       "      <td>0.92</td>\n",
       "      <td>0.85</td>\n",
       "      <td>0.888</td>\n",
       "    </tr>\n",
       "    <tr>\n",
       "      <th>2</th>\n",
       "      <td>0.72</td>\n",
       "      <td>0.91</td>\n",
       "      <td>0.85</td>\n",
       "      <td>0.97</td>\n",
       "      <td>0.91</td>\n",
       "      <td>0.92</td>\n",
       "      <td>0.91</td>\n",
       "      <td>0.91</td>\n",
       "      <td>0.91</td>\n",
       "      <td>0.85</td>\n",
       "      <td>0.91</td>\n",
       "      <td>0.91</td>\n",
       "      <td>0.85</td>\n",
       "      <td>0.887</td>\n",
       "    </tr>\n",
       "    <tr>\n",
       "      <th>3</th>\n",
       "      <td>0.85</td>\n",
       "      <td>0.85</td>\n",
       "      <td>0.91</td>\n",
       "      <td>0.85</td>\n",
       "      <td>0.91</td>\n",
       "      <td>0.85</td>\n",
       "      <td>0.92</td>\n",
       "      <td>0.85</td>\n",
       "      <td>0.91</td>\n",
       "      <td>0.85</td>\n",
       "      <td>0.91</td>\n",
       "      <td>0.91</td>\n",
       "      <td>0.92</td>\n",
       "      <td>0.884</td>\n",
       "    </tr>\n",
       "    <tr>\n",
       "      <th>4</th>\n",
       "      <td>0.91</td>\n",
       "      <td>0.85</td>\n",
       "      <td>0.85</td>\n",
       "      <td>0.91</td>\n",
       "      <td>0.91</td>\n",
       "      <td>0.92</td>\n",
       "      <td>0.91</td>\n",
       "      <td>0.85</td>\n",
       "      <td>0.9</td>\n",
       "      <td>0.92</td>\n",
       "      <td>0.91</td>\n",
       "      <td>0.91</td>\n",
       "      <td>0.79</td>\n",
       "      <td>0.888</td>\n",
       "    </tr>\n",
       "  </tbody>\n",
       "</table>\n",
       "</div>"
      ],
      "text/plain": [
       "      0     1     2     3     4     5     6     7     8     9    10    11  \\\n",
       "0  0.98  0.85  0.92  0.84  0.92  0.91  0.85  0.85  0.91  0.91  0.91  0.85   \n",
       "1  0.85  0.91  0.91  0.85  0.92  0.85  0.91  0.91  0.91  0.85  0.91  0.92   \n",
       "2  0.72  0.91  0.85  0.97  0.91  0.92  0.91  0.91  0.91  0.85  0.91  0.91   \n",
       "3  0.85  0.85  0.91  0.85  0.91  0.85  0.92  0.85  0.91  0.85  0.91  0.91   \n",
       "4  0.91  0.85  0.85  0.91  0.91  0.92  0.91  0.85   0.9  0.92  0.91  0.91   \n",
       "\n",
       "     12  Média  \n",
       "0  0.91  0.893  \n",
       "1  0.85  0.888  \n",
       "2  0.85  0.887  \n",
       "3  0.92  0.884  \n",
       "4  0.79  0.888  "
      ]
     },
     "metadata": {},
     "output_type": "display_data"
    },
    {
     "name": "stdout",
     "output_type": "stream",
     "text": [
      "Média geral: 0.888\n"
     ]
    }
   ],
   "source": [
    "import pandas as pd\n",
    "tabela = []\n",
    "colunas = []\n",
    "dados = open(\"dados/dados_P2.txt\",'r')\n",
    "media = 0\n",
    "nlinhas = 0\n",
    "\n",
    "for linha in dados:\n",
    "        linhaaux = linha.replace(',', '.')\n",
    "        proc_linha = (linhaaux.rstrip('\\n')).split('\\t') \n",
    "        proc_linha[-1] = round(float(proc_linha[-1]),3)\n",
    "        media += proc_linha[-1]\n",
    "        nlinhas+=1\n",
    "        tabela.append(proc_linha)\n",
    "        \n",
    "for i in range(13):\n",
    "    colunas.append(i)\n",
    "    \n",
    "colunas.append('Média')\n",
    "media = media/nlinhas\n",
    "\n",
    "resultado = pd.DataFrame(tabela, columns = colunas)\n",
    "display(resultado)\n",
    "print('Média geral: ' + str(round(media,3)))\n",
    "\n",
    "dados.close()\n"
   ]
  },
  {
   "cell_type": "markdown",
   "metadata": {},
   "source": [
    "Desses dados, podemos já verificar que, mesmo o experimento tendo sido realizado com arrasto e todas as outras complicações de um experimento real (massa não pontual, celular realizando pequenos movimentos de rotação etc., condições iniciais levemente diferentes entre execuções do experimento etc.), o período se manteve bastante estável, conforme esperado pela teoria."
   ]
  },
  {
   "cell_type": "markdown",
   "metadata": {},
   "source": [
    "## Queda Livre\n",
    "\n",
    "Foi utilizado um celular para detectar o impacto da bolinha no solo com outro celular usado para filmagem. O solo de azulejo reverberou a vibração do impacto de forma detectável adequadamente. O experimento foi repetido cinco vezes. Dados do experimento:\n",
    "\n",
    "| Dado | Valor |\n",
    "|---|---|\n",
    "| Altura inicial (m) | 3.0 |\n",
    "| Alturas sucessivas (m) | 3.0, 2.2, 1.2, 0.9, 0.5, 0.4, 0.3, 0.2, 0.1, 0.05, 0.01 |"
   ]
  },
  {
   "cell_type": "code",
   "execution_count": null,
   "metadata": {},
   "outputs": [],
   "source": []
  },
  {
   "cell_type": "markdown",
   "metadata": {
    "colab_type": "text",
    "id": "MtAD65Foamrw"
   },
   "source": [
    "## Sensores\n",
    "Seguem abaixo os gráficos dos dados obtidos pelo Physics Toolbox:\n",
    "\n",
    "\n",
    "### Movimento Oblíquo\n",
    "![Exp1 rodada1](img/exp1rodada1.png)\n",
    "\n",
    "![Exp1 rodada2](img/exp1rodada2.png)\n",
    "\n",
    "![Exp1 rodada3](img/exp1rodada3.png)\n",
    "\n",
    "![Exp1 rodada4](img/exp1rodada4.png)\n",
    "\n",
    "![Exp1 rodada5](img/exp1rodada5.png)\n",
    "\n",
    "### Movimento Pendular\n",
    "![Exp2 rodada1](img/exp2rodada1.png)\n",
    "\n",
    "![Exp2 rodada2](img/exp2rodada2.png)\n",
    "\n",
    "![Exp2 rodada3](img/exp2rodada3.png)\n",
    "\n",
    "![Exp2 rodada4](img/exp2rodada4.png)\n",
    "\n",
    "![Exp2 rodada5](img/exp2rodada5.png)\n",
    "\n",
    "### Queda Livre\n",
    "![Exp3 rodada1](img/exp3rodada1.png)\n",
    "\n",
    "![Exp3 rodada2](img/exp3rodada2.png)\n",
    "\n",
    "![Exp3 rodada3](img/exp3rodada3.png)\n",
    "\n",
    "![Exp3 rodada4](img/exp3rodada4.png)\n",
    "\n",
    "![Exp3 rodada5](img/exp3rodada5.png)"
   ]
  },
  {
   "cell_type": "markdown",
   "metadata": {
    "colab_type": "text",
    "id": "4fwryk8Tamrw"
   },
   "source": [
    "# Análise\n",
    "\n",
    "Usando os dados obtidos pelo acelerômetro, foi possível estimar os tempos de cada experimento. Podemos assim simular gráficos usando Euler e a solução analítica. Seguem abaixo os cálculos dos experimentos através do metodo analítico e o de Euler para os Experimentos a seguir."
   ]
  },
  {
   "cell_type": "markdown",
   "metadata": {},
   "source": [
    "## Movimento Oblíquo"
   ]
  },
  {
   "cell_type": "code",
   "execution_count": 12,
   "metadata": {
    "colab": {
     "base_uri": "https://localhost:8080/",
     "height": 3041
    },
    "colab_type": "code",
    "executionInfo": {
     "elapsed": 3500,
     "status": "ok",
     "timestamp": 1555892490300,
     "user": {
      "displayName": "Arthur Sakayan Vieira de Melo",
      "photoUrl": "",
      "userId": "02173098659234416468"
     },
     "user_tz": 0
    },
    "id": "m70cOr3farXw",
    "outputId": "61d10ba5-c76e-45ce-fed2-673d2bb2f2b5"
   },
   "outputs": [
    {
     "data": {
      "image/png": "[encoded data removed]",
      "text/plain": [
       "<Figure size 432x288 with 1 Axes>"
      ]
     },
     "metadata": {
      "needs_background": "light"
     },
     "output_type": "display_data"
    },
    {
     "data": {
      "image/png": "[encoded data removed]",
      "text/plain": [
       "<Figure size 432x288 with 1 Axes>"
      ]
     },
     "metadata": {
      "needs_background": "light"
     },
     "output_type": "display_data"
    },
    {
     "data": {
      "image/png": "[encoded data removed]",
      "text/plain": [
       "<Figure size 432x288 with 1 Axes>"
      ]
     },
     "metadata": {
      "needs_background": "light"
     },
     "output_type": "display_data"
    },
    {
     "data": {
      "image/png": "[encoded data removed]",
      "text/plain": [
       "<Figure size 432x288 with 1 Axes>"
      ]
     },
     "metadata": {
      "needs_background": "light"
     },
     "output_type": "display_data"
    },
    {
     "data": {
      "image/png": "[encoded data removed]",
      "text/plain": [
       "<Figure size 432x288 with 1 Axes>"
      ]
     },
     "metadata": {
      "needs_background": "light"
     },
     "output_type": "display_data"
    }
   ],
   "source": [
    "import matplotlib.pyplot as plt\n",
    "import math\n",
    "\n",
    "#Intervalos de tempo de cada experimento. Estes foram extraídos por observação dos sensores!\n",
    "lista_tempos = [16.537,8.316,14.85,17.234,14.42]\n",
    "\n",
    "delta_t = 0.1 #ajustável\n",
    "\n",
    "i = 0\n",
    "\n",
    "while i < len(lista_tempos):\n",
    "    tf = lista_tempos[i]\n",
    "    desvio_lateral = desvios_laterais[i] #obtido anteriormente\n",
    "    \n",
    "    #inicializando variáveis\n",
    "    t_atual = 0\n",
    "    list_instantes = []\n",
    "    \n",
    "    #Variaveis no eixo x\n",
    "    v_x0 = 0\n",
    "    s_x0 = 0\n",
    "    s_x_anterior_euler = 0\n",
    "    v_x_anterior_euler = 0\n",
    "    s_x_anterior_euler_cromer = 0\n",
    "    v_x_anterior_euler_cromer = 0\n",
    "    a_x = 2 * 10 / (tf**2) #da formula do muv, com v_0 = 0 e s_0 = 0\n",
    "    list_x_analitica = []\n",
    "    list_x_euler = []\n",
    "    list_x_euler_cromer = []\n",
    "    \n",
    "    #Variaveis no eixo y\n",
    "    s_y0 = 0\n",
    "    s_y_anterior_euler = 0\n",
    "    s_y_anterior_euler_cromer = 0\n",
    "    \n",
    "    #O carro é iniciado com um desvio de 15 graus do eixo x, logo ay = tg 15 * ax.\n",
    "    a_y = -1 * math.tan(math.pi/12) * a_x\n",
    "    \n",
    "    #Da formula do muv, com s = s_o = 0.\n",
    "    v_y0 = -1 * a_y * tf / 2\n",
    "    v_y_anterior_euler = v_y0\n",
    "    v_y_anterior_euler_cromer = v_y0\n",
    "    \n",
    "    list_y_analitica = []\n",
    "    list_y_euler = []\n",
    "    list_y_euler_cromer = []\n",
    "    \n",
    "    while t_atual < tf:\n",
    "        list_instantes.append(t_atual)\n",
    "        \n",
    "        #Eixo x\n",
    "        #solucao analitica\n",
    "        #v_x = v_x0 + a_x * t_atual #preciso da velocidade atual?\n",
    "        s_x_analitica = s_x0 + v_x0* t_atual + a_x * (t_atual**2)/2\n",
    "        \n",
    "        #solucao euler\n",
    "        s_x_atual_euler = s_x_anterior_euler + v_x_anterior_euler * delta_t\n",
    "        v_x_atual_euler = v_x_anterior_euler + a_x * delta_t\n",
    "        \n",
    "        s_x_anterior_euler = s_x_atual_euler\n",
    "        v_x_anterior_euler = v_x_atual_euler\n",
    "        \n",
    "        #solucao euler-cromer\n",
    "        v_x_atual_euler_cromer = v_x_anterior_euler_cromer + a_x * delta_t\n",
    "        s_x_atual_euler_cromer = s_x_anterior_euler_cromer + v_x_atual_euler_cromer * delta_t\n",
    "               \n",
    "        s_x_anterior_euler_cromer = s_x_atual_euler_cromer\n",
    "        v_x_anterior_euler_cromer = v_x_atual_euler_cromer\n",
    "        \n",
    "        #adicionando s calculado na lista das posições sucessivas de x\n",
    "        list_x_analitica.append(s_x_analitica)\n",
    "        list_x_euler.append(s_x_atual_euler)\n",
    "        list_x_euler_cromer.append(s_x_atual_euler_cromer)\n",
    "        \n",
    "        #Eixo y\n",
    "        #solucao analitica\n",
    "        s_y_analitica = s_y0 + v_y0 * t_atual + a_y * (t_atual ** 2)/2\n",
    "        \n",
    "        #solucao euler\n",
    "        s_y_atual_euler = s_y_anterior_euler + v_y_anterior_euler * delta_t\n",
    "        v_y_atual_euler = v_y_anterior_euler + a_y * delta_t\n",
    "        \n",
    "        s_y_anterior_euler = s_y_atual_euler\n",
    "        v_y_anterior_euler = v_y_atual_euler\n",
    "        \n",
    "        #solucao euler-cromer\n",
    "        v_y_atual_euler_cromer = v_y_anterior_euler_cromer + a_y * delta_t\n",
    "        s_y_atual_euler_cromer = s_y_anterior_euler_cromer + v_y_atual_euler_cromer * delta_t\n",
    "        \n",
    "        s_y_anterior_euler_cromer = s_y_atual_euler\n",
    "        v_y_anterior_euler_cromer = v_y_atual_euler\n",
    "        \n",
    "        #adicionando s calculado na lista das posições sucessivas de y\n",
    "        list_y_analitica.append(s_y_analitica)\n",
    "        list_y_euler.append(s_y_atual_euler)\n",
    "        list_y_euler_cromer.append(s_y_atual_euler_cromer)\n",
    "        \n",
    "        t_atual = t_atual + delta_t\n",
    "    \n",
    "    \n",
    "    #Desenhando deslocamento em x ao longo do tempo\n",
    "    #plt.plot(list_instantes,list_x_analitica,c='r', label = 'Analítico')\n",
    "    #plt.plot(list_instantes,list_x_euler,c='b',label = 'Euler')\n",
    "    #plt.plot(list_instantes,list_x_euler_cromer,c='g',label = 'Euler-Cromer')\n",
    "    #plt.legend(loc='lower right')\n",
    "    #plt.title('Mov em x, Experimento' + str(i+1))\n",
    "    #plt.x_label = ('tempo(s)')\n",
    "    #plt.y_label = ('posicao(m)')   \n",
    "    #plt.show()\n",
    "    \n",
    "    #Desenhando deslocamento em y ao longo do tempo\n",
    "    #plt.plot(list_instantes,list_y_analitica,c='r', label = 'Analítico')\n",
    "    #plt.plot(list_instantes,list_y_euler,c='b',label = 'Euler')\n",
    "    #plt.plot(list_instantes,list_y_euler,c='g',label = 'Euler-Cromer')\n",
    "    #plt.legend(loc='lower right')\n",
    "    #plt.title('Mov em y, Experimento' + str(i+1))\n",
    "    #plt.x_label = ('tempo(s)')\n",
    "    #plt.y_label = ('posicao(m)')   \n",
    "    #plt.show()\n",
    "    \n",
    "    # Comparando o trajeto feito pela solução analítica com o de Euler\n",
    "    plt.plot(list_x_analitica,list_y_analitica,c='r', label = 'Analítico')\n",
    "    plt.plot(list_x_euler,list_y_euler,c='b',label = 'Euler')\n",
    "    plt.plot(list_x_euler_cromer,list_y_euler_cromer,c='g',label = 'Euler-cromer')\n",
    "    plt.legend(loc='lower right')\n",
    "    plt.title('visão aérea da simulação, Experimento' + str(i+1))\n",
    "    plt.x_label = ('tempo(s)')\n",
    "    plt.y_label = ('posicao(m)')   \n",
    "    plt.show()\n",
    "    \n",
    "    \n",
    "    #print(tf,desvio_lateral)\n",
    "    \n",
    "    i = i + 1"
   ]
  },
  {
   "cell_type": "markdown",
   "metadata": {},
   "source": [
    "## Movimento Pendular"
   ]
  },
  {
   "cell_type": "markdown",
   "metadata": {},
   "source": [
    "Apesar das medidas externas que fizemos do movimento terem sido relativamente estaveis, algumas variaveis inevitáveis do experimento real afetaram negativamente a captação de dados pelo acelerômetro. O ruído de medida foi muito grande por conta dos movimentos de rotação e pequenos impactos do celular com a parede, o que tornou os dados pouco úteis para uma análise númerica. Dessa forma, utilizaremos principalmente os dados de tempo que obtivemos pela medida visual para a simulação númerica."
   ]
  },
  {
   "cell_type": "code",
   "execution_count": null,
   "metadata": {},
   "outputs": [],
   "source": []
  },
  {
   "cell_type": "markdown",
   "metadata": {},
   "source": [
    "## Queda Livre"
   ]
  },
  {
   "cell_type": "code",
   "execution_count": 13,
   "metadata": {},
   "outputs": [
    {
     "name": "stdout",
     "output_type": "stream",
     "text": [
      "k estimado = 1.2096560428061522\n"
     ]
    }
   ],
   "source": [
    "import numpy\n",
    "#extraídos dos sensores e do vídeo, pegando apenas cinco pois são mais fáceis de distinguir\n",
    "alturas_sucessivas = [3.0, 2.2, 1.2, 0.9, 0.5]\n",
    "instantes_impacto_exp1 = [4.819,5.821,6.012,6.322,6.927,7.192]\n",
    "instantes_impacto_exp2 = [5.103,6.002,6.275,6.804,7.201,7.345]\n",
    "instantes_impacto_exp3 = [4.408,5.395,5.735,6.174,6.814,7.004]\n",
    "instantes_impacto_exp4 = [3.905,4.805,5.072,5.852,6.645,6.641]\n",
    "instantes_impacto_exp5 = [3.831,4.741,5.261,5.741,6.001,6.472]\n",
    "\n",
    "#Estimando o valor de k médio\n",
    "def calcula_k_medio(lista_instantes):\n",
    "    tamanho = len(lista_instantes)\n",
    "    lista_de_k = []\n",
    "    \n",
    "    i = 1\n",
    "    while i < tamanho:\n",
    "        lista_de_k.append((lista_instantes[i]**2)/(lista_instantes[i-1]**2))\n",
    "        i = i + 1\n",
    "    \n",
    "    return numpy.mean(lista_de_k)\n",
    "\n",
    "lista_k_medios = []\n",
    "lista_k_medios.append(calcula_k_medio(instantes_impacto_exp1))\n",
    "lista_k_medios.append(calcula_k_medio(instantes_impacto_exp2))\n",
    "lista_k_medios.append(calcula_k_medio(instantes_impacto_exp3))\n",
    "lista_k_medios.append(calcula_k_medio(instantes_impacto_exp4))\n",
    "lista_k_medios.append(calcula_k_medio(instantes_impacto_exp5))\n",
    "\n",
    "k = numpy.mean(lista_k_medios)\n",
    "#print(lista_k_medios)\n",
    "print('k estimado = ' + str(k))"
   ]
  },
  {
   "cell_type": "code",
   "execution_count": 14,
   "metadata": {},
   "outputs": [
    {
     "name": "stdout",
     "output_type": "stream",
     "text": [
      "gravidade estimada = 10.03551189038495\n"
     ]
    }
   ],
   "source": [
    "def estima_gravidade(lista_alturas,lista_instantes):\n",
    "    return (2 * lista_alturas[1]) / (0.5 * (lista_instantes[1]- lista_instantes[0])**2)\n",
    "\n",
    "lista_gravidades = []\n",
    "lista_gravidades.append(estima_gravidade(alturas_sucessivas,instantes_impacto_exp1))\n",
    "lista_gravidades.append(estima_gravidade(alturas_sucessivas,instantes_impacto_exp2))\n",
    "lista_gravidades.append(estima_gravidade(alturas_sucessivas,instantes_impacto_exp3))\n",
    "lista_gravidades.append(estima_gravidade(alturas_sucessivas,instantes_impacto_exp4))\n",
    "lista_gravidades.append(estima_gravidade(alturas_sucessivas,instantes_impacto_exp5))\n",
    "\n",
    "print(\"gravidade estimada = \" +str(numpy.mean(lista_gravidades)))\n"
   ]
  },
  {
   "cell_type": "code",
   "execution_count": 15,
   "metadata": {},
   "outputs": [],
   "source": []
  },
  {
   "cell_type": "markdown",
   "metadata": {
    "colab_type": "text",
    "id": "1KiNlGvqamrw"
   },
   "source": [
    "# Interpretação\n",
    "\n",
    "Observando-se os gráficos dos sensores do celular, é possível distinguir com relativa facilidade quando o experimento começa e termina. Mesmo que haja imprecisão na determinação deste instantes, é possível notar que é melhor do que os instantes determinados pelos cronômetros quando estes são confiáveis.\n",
    "\n",
    "Esta diferença é facilmente explicada pelo tempo de reação do observador ao detectar tanto o início quanto o término do experimento. Mas não é possível distinguir em qual posição o transeunte está simplesmente pelo gráfico do sensor, sendo necessário a presença dos observadores com cronômetros para tal. Talvez se o celular fosse agitado quando a pessoa passasse por cada marcação do experimento, mas seria necessário analisar uma metodologia para tentar padronizar esta agitação e se esta agitação seria mais precisa do que a marcaçao por cronômetros.\n",
    "\n"
   ]
  },
  {
   "cell_type": "markdown",
   "metadata": {
    "colab_type": "text",
    "id": "eUM2As9kamrw"
   },
   "source": [
    "# Analise crítica\n",
    "Diversos problemas foram encontrados ao tentar usar um carrinho para fazer uma simples descida em rampa: O carrinho não andava em linha reta, o chão continha diversos fatores que influenciavam a aceleração do carrinho, além das próprias rodas do carrinho acumularem o giz que usamos como marcação no chão.\n",
    "\n",
    "No experimento de movimento Pendular, o uso do celular dificultou fazer com precisão as medições. Além disto o céu estava nublado, dificultando a visualização pelo vídeo da trajetória do celular.\n",
    "\n",
    "Quanto a técnicas computacionais, mais uma vez, é preciso considerar no algoritmo erros como medições imprecisas e interferências externas, além, é claro, das próprias limitações computacionais, dado que a precisão infinita é algo além do poder de qualquer máquina. \n",
    "\n",
    "Usar a linguagem Python para realização dos cálculos facilitou a implementação do algoritmo. Houve uma certa dificuldade em se certificar de que o notebook Jupyter iria funcionar em todas as máquinas. Em um dos computadores, a instalação apenas do Jupyter não foi suficiente, pois a impressão de tabelas usou o módulo *pandas* e, mesmo usando o *pip* para instalar o Pandas, o notebook não reconheceu a instalação do módulo. No fim das contas, instalar o pacote Anaconda padronizou as instalações e facilitou o processo de usar o notebook para todos."
   ]
  },
  {
   "cell_type": "markdown",
   "metadata": {
    "colab_type": "text",
    "id": "krghak3Jamrw"
   },
   "source": [
    "# Log\n",
    "\n",
    "-  Experimento Prático: 6h (todos)\n",
    "    -  Alexandre\n",
    "    -  Arthur\n",
    "    -  Ricardo\n",
    "\n",
    "-  Programando: 12h (total)\n",
    "    -  Alexandre\n",
    "    -  Arthur\n",
    "    -  Ricardo\n",
    "\n",
    "-  Elaboração do Relatório: 18h(total)\n",
    "    -  Alexandre\n",
    "    -  Arthur\n",
    "    -  Ricardo\n"
   ]
  },
  {
   "cell_type": "markdown",
   "metadata": {
    "colab_type": "text",
    "id": "l1oYUT5jamrw"
   },
   "source": [
    "# Contribuição dos Autores\n",
    "\n",
    "Os três membros participaram dos experimentos, tanto como coordenadores, sensores e participantes. Todos também participaram da análise de dados coletados e da elaboração do relatório."
   ]
  },
  {
   "cell_type": "markdown",
   "metadata": {
    "colab_type": "text",
    "id": "69GRU3Muamrw"
   },
   "source": [
    "# Referências\n",
    "\"Smartphones as Experimental Tools: Different Methods to Determine the Gravitational Acceleration in Classroom Physics by Using Everyday Devices\"\n",
    "https://eric.ed.gov/?id=EJ1052301"
   ]
  }
 ],
 "metadata": {
  "colab": {
   "name": "plesase.ipynb",
   "provenance": [],
   "version": "0.3.2"
  },
  "kernelspec": {
   "display_name": "Python 3",
   "language": "python",
   "name": "python3"
  },
  "language_info": {
   "codemirror_mode": {
    "name": "ipython",
    "version": 3
   },
   "file_extension": ".py",
   "mimetype": "text/x-python",
   "name": "python",
   "nbconvert_exporter": "python",
   "pygments_lexer": "ipython3",
   "version": "3.7.3"
  }
 },
 "nbformat": 4,
 "nbformat_minor": 1
}
