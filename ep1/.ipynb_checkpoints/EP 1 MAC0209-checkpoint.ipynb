{
 "cells": [
  {
   "cell_type": "markdown",
   "metadata": {},
   "source": [
    "# EP 1 de MAC 209\n",
    "**Nomes/NUSP:**\n",
    "\n",
    "    Ricardo Mikio Morita             5412562\n",
    "    \n",
    "*adicionar todos os nomes*  "
   ]
  },
  {
   "cell_type": "markdown",
   "metadata": {},
   "source": [
    "# Introdução\n",
    "O experimento realizado durante este primeiro Exercício-Programa(EP) buscou observar dois fenômenos plenamente descritos e bem-compreendidos: O **Movimento Retilíneo Uniforme** (MU) e o **Movimento Retilíneo Uniformemente Acelerado** (MUV).\n",
    "\n",
    "Desprezando efeitos como atrito, a **Primeira Lei de Newton** diz que um corpo se movimentando sem a ação de uma força externa permanecerá se movendo com uma velocidade constante, descrevendo um movimento compatível com o MU. Entretanto, sob a ação de uma força constante (que se traduz em uma aceleração do objeto) de mesma direção da velocidade, como descrito pela **Segunda Lei de Newton**, teremos um aumento ou diminuição da velocidade do corpo de maneira constante que descreve o MUV.\n",
    "\n",
    "De posse dessas observações, seguem as seguintes equações que descrevem o movimento do corpo no espaço para o MU e MUV (Notar que basta considerar $a = 0$ para obter-se as equações do MU):\n",
    "\n",
    "| Fórmula | Observação |\n",
    "|---|---|\n",
    "| $$v = at + v_o$$ | $s_o$ é a posição inicial |\n",
    "|$$s = s_o + v_ot _ (at^2)/2$$ | $s$ é a posição final |\n",
    "|$$s = s_o + (v + v_o)/2t$$ | $v_o$ é a velocidade inicial|\n",
    "|$$v^2 = v^2_o + 2a(s - s_o)$$ | $v$ é a velocidade final\n",
    "|$$r = s_o + vt - (at^2)/2$$ | $a$ é a aceleração|\n",
    "| $ $|$t$ é o instante de tempo |\n",
    "\n",
    "De posse desse conhecimento, é possível fazer uma projeção do comportamento cinemático de um corpo real aplicando os dados obtidos no experimento nas equações supra- citadas e obter um modelo compatível com os resultados práticos. Entretanto, neste EP foi desenvolvido um programa que usa os dados do experimento para criar uma simulação do comportamento do corpo a partir dos dados obtidos e depois será realizada uma sobreposição da simulação com os dados reais obtidos, observando e descrevendo o resultado.\n",
    "\n",
    "A finalidade do experimento é, portanto, de comparar o uso de simulações de computadores com os modelos teóricos já bem-definidos e comparar os resultados. A partir disso, discutir sobre a utilidade de tal ferramenta diante dos resultados.\n"
   ]
  },
  {
   "cell_type": "code",
   "execution_count": null,
   "metadata": {},
   "outputs": [],
   "source": []
  },
  {
   "cell_type": "code",
   "execution_count": null,
   "metadata": {},
   "outputs": [],
   "source": []
  },
  {
   "cell_type": "markdown",
   "metadata": {},
   "source": [
    "#Referências\n",
    "https://en.wikipedia.org/wiki/Equations_of_motion#Constant_translational_acceleration_in_a_straight_line"
   ]
  }
 ],
 "metadata": {
  "kernelspec": {
   "display_name": "Python 3",
   "language": "python",
   "name": "python3"
  },
  "language_info": {
   "codemirror_mode": {
    "name": "ipython",
    "version": 3
   },
   "file_extension": ".py",
   "mimetype": "text/x-python",
   "name": "python",
   "nbconvert_exporter": "python",
   "pygments_lexer": "ipython3",
   "version": "3.7.3"
  }
 },
 "nbformat": 4,
 "nbformat_minor": 2
}
